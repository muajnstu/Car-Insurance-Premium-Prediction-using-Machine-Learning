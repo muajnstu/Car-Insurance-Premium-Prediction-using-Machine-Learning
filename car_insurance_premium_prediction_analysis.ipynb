{
  "cells": [
    {
      "cell_type": "markdown",
      "metadata": {
        "id": "view-in-github",
        "colab_type": "text"
      },
      "source": [
        "<a href=\"https://colab.research.google.com/github/muajnstu/Car-Insurance-Premium-Prediction-using-Machine-Learning/blob/main/car_insurance_premium_prediction_analysis.ipynb\" target=\"_parent\"><img src=\"https://colab.research.google.com/assets/colab-badge.svg\" alt=\"Open In Colab\"/></a>"
      ]
    },
    {
      "cell_type": "markdown",
      "id": "eef748f9",
      "metadata": {
        "papermill": {
          "duration": 0.003644,
          "end_time": "2025-01-09T15:26:15.954877",
          "exception": false,
          "start_time": "2025-01-09T15:26:15.951233",
          "status": "completed"
        },
        "tags": [],
        "id": "eef748f9"
      },
      "source": [
        "# Table of Contents\n",
        "1. [Introduction](#Introduction)\n",
        "2. [Data Loading](#Data-Loading)\n",
        "3. [Data Cleaning and Preprocessing](#Data-Cleaning-and-Preprocessing)\n",
        "4. [Exploratory Data Analysis](#Exploratory-Data-Analysis)\n",
        "5. [Feature Engineering](#Feature-Engineering)\n",
        "6. [Model Building](#Model-Building)\n",
        "7. [Model Evaluation](#Model-Evaluation)\n",
        "8. [Conclusion and Future Work](#Conclusion-and-Future-Work)"
      ]
    },
    {
      "cell_type": "markdown",
      "id": "8567f367",
      "metadata": {
        "papermill": {
          "duration": 0.003447,
          "end_time": "2025-01-09T15:26:15.962135",
          "exception": false,
          "start_time": "2025-01-09T15:26:15.958688",
          "status": "completed"
        },
        "tags": [],
        "id": "8567f367"
      },
      "source": [
        "# Introduction\n",
        "Car insurance premiums can be a significant expense for drivers, and understanding the factors that influence these premiums can be both enlightening and financially beneficial. In this notebook, we will explore a dataset containing information about drivers and their car insurance premiums. Our goal is to uncover patterns and build a predictive model to estimate insurance premiums based on various factors such as driver age, experience, and car age. If you find this notebook useful, please consider upvoting it."
      ]
    },
    {
      "cell_type": "markdown",
      "id": "2522b5ef",
      "metadata": {
        "papermill": {
          "duration": 0.00349,
          "end_time": "2025-01-09T15:26:15.969257",
          "exception": false,
          "start_time": "2025-01-09T15:26:15.965767",
          "status": "completed"
        },
        "tags": [],
        "id": "2522b5ef"
      },
      "source": [
        "# Data Loading\n",
        "Let's start by loading the data and taking a quick look at its structure."
      ]
    },
    {
      "cell_type": "code",
      "execution_count": 18,
      "id": "047c3599",
      "metadata": {
        "execution": {
          "iopub.execute_input": "2025-01-09T15:26:15.978381Z",
          "iopub.status.busy": "2025-01-09T15:26:15.978019Z",
          "iopub.status.idle": "2025-01-09T15:26:18.071020Z",
          "shell.execute_reply": "2025-01-09T15:26:18.070001Z"
        },
        "id": "047c3599",
        "papermill": {
          "duration": 2.099912,
          "end_time": "2025-01-09T15:26:18.072940",
          "exception": false,
          "start_time": "2025-01-09T15:26:15.973028",
          "status": "completed"
        },
        "tags": [],
        "colab": {
          "base_uri": "https://localhost:8080/",
          "height": 206
        },
        "outputId": "896727da-e1ce-4dd4-e7ef-9065fb1c746b"
      },
      "outputs": [
        {
          "output_type": "execute_result",
          "data": {
            "text/plain": [
              "   Driver Age  Driver Experience  Previous Accidents  \\\n",
              "0          56                 32                   4   \n",
              "1          46                 19                   0   \n",
              "2          32                 11                   4   \n",
              "3          60                  0                   4   \n",
              "4          25                  7                   0   \n",
              "\n",
              "   Annual Mileage (x1000 km)  Car Manufacturing Year  Car Age  \\\n",
              "0                         17                    2002       23   \n",
              "1                         21                    2025        0   \n",
              "2                         15                    2020        5   \n",
              "3                         19                    1991       34   \n",
              "4                         13                    2005       20   \n",
              "\n",
              "   Insurance Premium ($)  \n",
              "0                 488.35  \n",
              "1                 486.15  \n",
              "2                 497.55  \n",
              "3                 498.35  \n",
              "4                 495.55  "
            ],
            "text/html": [
              "\n",
              "  <div id=\"df-dc510eae-c24d-48ef-9831-8e23a923355d\" class=\"colab-df-container\">\n",
              "    <div>\n",
              "<style scoped>\n",
              "    .dataframe tbody tr th:only-of-type {\n",
              "        vertical-align: middle;\n",
              "    }\n",
              "\n",
              "    .dataframe tbody tr th {\n",
              "        vertical-align: top;\n",
              "    }\n",
              "\n",
              "    .dataframe thead th {\n",
              "        text-align: right;\n",
              "    }\n",
              "</style>\n",
              "<table border=\"1\" class=\"dataframe\">\n",
              "  <thead>\n",
              "    <tr style=\"text-align: right;\">\n",
              "      <th></th>\n",
              "      <th>Driver Age</th>\n",
              "      <th>Driver Experience</th>\n",
              "      <th>Previous Accidents</th>\n",
              "      <th>Annual Mileage (x1000 km)</th>\n",
              "      <th>Car Manufacturing Year</th>\n",
              "      <th>Car Age</th>\n",
              "      <th>Insurance Premium ($)</th>\n",
              "    </tr>\n",
              "  </thead>\n",
              "  <tbody>\n",
              "    <tr>\n",
              "      <th>0</th>\n",
              "      <td>56</td>\n",
              "      <td>32</td>\n",
              "      <td>4</td>\n",
              "      <td>17</td>\n",
              "      <td>2002</td>\n",
              "      <td>23</td>\n",
              "      <td>488.35</td>\n",
              "    </tr>\n",
              "    <tr>\n",
              "      <th>1</th>\n",
              "      <td>46</td>\n",
              "      <td>19</td>\n",
              "      <td>0</td>\n",
              "      <td>21</td>\n",
              "      <td>2025</td>\n",
              "      <td>0</td>\n",
              "      <td>486.15</td>\n",
              "    </tr>\n",
              "    <tr>\n",
              "      <th>2</th>\n",
              "      <td>32</td>\n",
              "      <td>11</td>\n",
              "      <td>4</td>\n",
              "      <td>15</td>\n",
              "      <td>2020</td>\n",
              "      <td>5</td>\n",
              "      <td>497.55</td>\n",
              "    </tr>\n",
              "    <tr>\n",
              "      <th>3</th>\n",
              "      <td>60</td>\n",
              "      <td>0</td>\n",
              "      <td>4</td>\n",
              "      <td>19</td>\n",
              "      <td>1991</td>\n",
              "      <td>34</td>\n",
              "      <td>498.35</td>\n",
              "    </tr>\n",
              "    <tr>\n",
              "      <th>4</th>\n",
              "      <td>25</td>\n",
              "      <td>7</td>\n",
              "      <td>0</td>\n",
              "      <td>13</td>\n",
              "      <td>2005</td>\n",
              "      <td>20</td>\n",
              "      <td>495.55</td>\n",
              "    </tr>\n",
              "  </tbody>\n",
              "</table>\n",
              "</div>\n",
              "    <div class=\"colab-df-buttons\">\n",
              "\n",
              "  <div class=\"colab-df-container\">\n",
              "    <button class=\"colab-df-convert\" onclick=\"convertToInteractive('df-dc510eae-c24d-48ef-9831-8e23a923355d')\"\n",
              "            title=\"Convert this dataframe to an interactive table.\"\n",
              "            style=\"display:none;\">\n",
              "\n",
              "  <svg xmlns=\"http://www.w3.org/2000/svg\" height=\"24px\" viewBox=\"0 -960 960 960\">\n",
              "    <path d=\"M120-120v-720h720v720H120Zm60-500h600v-160H180v160Zm220 220h160v-160H400v160Zm0 220h160v-160H400v160ZM180-400h160v-160H180v160Zm440 0h160v-160H620v160ZM180-180h160v-160H180v160Zm440 0h160v-160H620v160Z\"/>\n",
              "  </svg>\n",
              "    </button>\n",
              "\n",
              "  <style>\n",
              "    .colab-df-container {\n",
              "      display:flex;\n",
              "      gap: 12px;\n",
              "    }\n",
              "\n",
              "    .colab-df-convert {\n",
              "      background-color: #E8F0FE;\n",
              "      border: none;\n",
              "      border-radius: 50%;\n",
              "      cursor: pointer;\n",
              "      display: none;\n",
              "      fill: #1967D2;\n",
              "      height: 32px;\n",
              "      padding: 0 0 0 0;\n",
              "      width: 32px;\n",
              "    }\n",
              "\n",
              "    .colab-df-convert:hover {\n",
              "      background-color: #E2EBFA;\n",
              "      box-shadow: 0px 1px 2px rgba(60, 64, 67, 0.3), 0px 1px 3px 1px rgba(60, 64, 67, 0.15);\n",
              "      fill: #174EA6;\n",
              "    }\n",
              "\n",
              "    .colab-df-buttons div {\n",
              "      margin-bottom: 4px;\n",
              "    }\n",
              "\n",
              "    [theme=dark] .colab-df-convert {\n",
              "      background-color: #3B4455;\n",
              "      fill: #D2E3FC;\n",
              "    }\n",
              "\n",
              "    [theme=dark] .colab-df-convert:hover {\n",
              "      background-color: #434B5C;\n",
              "      box-shadow: 0px 1px 3px 1px rgba(0, 0, 0, 0.15);\n",
              "      filter: drop-shadow(0px 1px 2px rgba(0, 0, 0, 0.3));\n",
              "      fill: #FFFFFF;\n",
              "    }\n",
              "  </style>\n",
              "\n",
              "    <script>\n",
              "      const buttonEl =\n",
              "        document.querySelector('#df-dc510eae-c24d-48ef-9831-8e23a923355d button.colab-df-convert');\n",
              "      buttonEl.style.display =\n",
              "        google.colab.kernel.accessAllowed ? 'block' : 'none';\n",
              "\n",
              "      async function convertToInteractive(key) {\n",
              "        const element = document.querySelector('#df-dc510eae-c24d-48ef-9831-8e23a923355d');\n",
              "        const dataTable =\n",
              "          await google.colab.kernel.invokeFunction('convertToInteractive',\n",
              "                                                    [key], {});\n",
              "        if (!dataTable) return;\n",
              "\n",
              "        const docLinkHtml = 'Like what you see? Visit the ' +\n",
              "          '<a target=\"_blank\" href=https://colab.research.google.com/notebooks/data_table.ipynb>data table notebook</a>'\n",
              "          + ' to learn more about interactive tables.';\n",
              "        element.innerHTML = '';\n",
              "        dataTable['output_type'] = 'display_data';\n",
              "        await google.colab.output.renderOutput(dataTable, element);\n",
              "        const docLink = document.createElement('div');\n",
              "        docLink.innerHTML = docLinkHtml;\n",
              "        element.appendChild(docLink);\n",
              "      }\n",
              "    </script>\n",
              "  </div>\n",
              "\n",
              "\n",
              "    <div id=\"df-ac0c3f38-87c6-4652-acae-afc268220e9f\">\n",
              "      <button class=\"colab-df-quickchart\" onclick=\"quickchart('df-ac0c3f38-87c6-4652-acae-afc268220e9f')\"\n",
              "                title=\"Suggest charts\"\n",
              "                style=\"display:none;\">\n",
              "\n",
              "<svg xmlns=\"http://www.w3.org/2000/svg\" height=\"24px\"viewBox=\"0 0 24 24\"\n",
              "     width=\"24px\">\n",
              "    <g>\n",
              "        <path d=\"M19 3H5c-1.1 0-2 .9-2 2v14c0 1.1.9 2 2 2h14c1.1 0 2-.9 2-2V5c0-1.1-.9-2-2-2zM9 17H7v-7h2v7zm4 0h-2V7h2v10zm4 0h-2v-4h2v4z\"/>\n",
              "    </g>\n",
              "</svg>\n",
              "      </button>\n",
              "\n",
              "<style>\n",
              "  .colab-df-quickchart {\n",
              "      --bg-color: #E8F0FE;\n",
              "      --fill-color: #1967D2;\n",
              "      --hover-bg-color: #E2EBFA;\n",
              "      --hover-fill-color: #174EA6;\n",
              "      --disabled-fill-color: #AAA;\n",
              "      --disabled-bg-color: #DDD;\n",
              "  }\n",
              "\n",
              "  [theme=dark] .colab-df-quickchart {\n",
              "      --bg-color: #3B4455;\n",
              "      --fill-color: #D2E3FC;\n",
              "      --hover-bg-color: #434B5C;\n",
              "      --hover-fill-color: #FFFFFF;\n",
              "      --disabled-bg-color: #3B4455;\n",
              "      --disabled-fill-color: #666;\n",
              "  }\n",
              "\n",
              "  .colab-df-quickchart {\n",
              "    background-color: var(--bg-color);\n",
              "    border: none;\n",
              "    border-radius: 50%;\n",
              "    cursor: pointer;\n",
              "    display: none;\n",
              "    fill: var(--fill-color);\n",
              "    height: 32px;\n",
              "    padding: 0;\n",
              "    width: 32px;\n",
              "  }\n",
              "\n",
              "  .colab-df-quickchart:hover {\n",
              "    background-color: var(--hover-bg-color);\n",
              "    box-shadow: 0 1px 2px rgba(60, 64, 67, 0.3), 0 1px 3px 1px rgba(60, 64, 67, 0.15);\n",
              "    fill: var(--button-hover-fill-color);\n",
              "  }\n",
              "\n",
              "  .colab-df-quickchart-complete:disabled,\n",
              "  .colab-df-quickchart-complete:disabled:hover {\n",
              "    background-color: var(--disabled-bg-color);\n",
              "    fill: var(--disabled-fill-color);\n",
              "    box-shadow: none;\n",
              "  }\n",
              "\n",
              "  .colab-df-spinner {\n",
              "    border: 2px solid var(--fill-color);\n",
              "    border-color: transparent;\n",
              "    border-bottom-color: var(--fill-color);\n",
              "    animation:\n",
              "      spin 1s steps(1) infinite;\n",
              "  }\n",
              "\n",
              "  @keyframes spin {\n",
              "    0% {\n",
              "      border-color: transparent;\n",
              "      border-bottom-color: var(--fill-color);\n",
              "      border-left-color: var(--fill-color);\n",
              "    }\n",
              "    20% {\n",
              "      border-color: transparent;\n",
              "      border-left-color: var(--fill-color);\n",
              "      border-top-color: var(--fill-color);\n",
              "    }\n",
              "    30% {\n",
              "      border-color: transparent;\n",
              "      border-left-color: var(--fill-color);\n",
              "      border-top-color: var(--fill-color);\n",
              "      border-right-color: var(--fill-color);\n",
              "    }\n",
              "    40% {\n",
              "      border-color: transparent;\n",
              "      border-right-color: var(--fill-color);\n",
              "      border-top-color: var(--fill-color);\n",
              "    }\n",
              "    60% {\n",
              "      border-color: transparent;\n",
              "      border-right-color: var(--fill-color);\n",
              "    }\n",
              "    80% {\n",
              "      border-color: transparent;\n",
              "      border-right-color: var(--fill-color);\n",
              "      border-bottom-color: var(--fill-color);\n",
              "    }\n",
              "    90% {\n",
              "      border-color: transparent;\n",
              "      border-bottom-color: var(--fill-color);\n",
              "    }\n",
              "  }\n",
              "</style>\n",
              "\n",
              "      <script>\n",
              "        async function quickchart(key) {\n",
              "          const quickchartButtonEl =\n",
              "            document.querySelector('#' + key + ' button');\n",
              "          quickchartButtonEl.disabled = true;  // To prevent multiple clicks.\n",
              "          quickchartButtonEl.classList.add('colab-df-spinner');\n",
              "          try {\n",
              "            const charts = await google.colab.kernel.invokeFunction(\n",
              "                'suggestCharts', [key], {});\n",
              "          } catch (error) {\n",
              "            console.error('Error during call to suggestCharts:', error);\n",
              "          }\n",
              "          quickchartButtonEl.classList.remove('colab-df-spinner');\n",
              "          quickchartButtonEl.classList.add('colab-df-quickchart-complete');\n",
              "        }\n",
              "        (() => {\n",
              "          let quickchartButtonEl =\n",
              "            document.querySelector('#df-ac0c3f38-87c6-4652-acae-afc268220e9f button');\n",
              "          quickchartButtonEl.style.display =\n",
              "            google.colab.kernel.accessAllowed ? 'block' : 'none';\n",
              "        })();\n",
              "      </script>\n",
              "    </div>\n",
              "\n",
              "    </div>\n",
              "  </div>\n"
            ],
            "application/vnd.google.colaboratory.intrinsic+json": {
              "type": "dataframe",
              "variable_name": "train_df",
              "summary": "{\n  \"name\": \"train_df\",\n  \"rows\": 1000,\n  \"fields\": [\n    {\n      \"column\": \"Driver Age\",\n      \"properties\": {\n        \"dtype\": \"number\",\n        \"std\": 13,\n        \"min\": 18,\n        \"max\": 65,\n        \"num_unique_values\": 48,\n        \"samples\": [\n          24,\n          65,\n          54\n        ],\n        \"semantic_type\": \"\",\n        \"description\": \"\"\n      }\n    },\n    {\n      \"column\": \"Driver Experience\",\n      \"properties\": {\n        \"dtype\": \"number\",\n        \"std\": 10,\n        \"min\": 0,\n        \"max\": 40,\n        \"num_unique_values\": 41,\n        \"samples\": [\n          6,\n          1,\n          10\n        ],\n        \"semantic_type\": \"\",\n        \"description\": \"\"\n      }\n    },\n    {\n      \"column\": \"Previous Accidents\",\n      \"properties\": {\n        \"dtype\": \"number\",\n        \"std\": 1,\n        \"min\": 0,\n        \"max\": 5,\n        \"num_unique_values\": 6,\n        \"samples\": [\n          4,\n          0,\n          5\n        ],\n        \"semantic_type\": \"\",\n        \"description\": \"\"\n      }\n    },\n    {\n      \"column\": \"Annual Mileage (x1000 km)\",\n      \"properties\": {\n        \"dtype\": \"number\",\n        \"std\": 4,\n        \"min\": 11,\n        \"max\": 25,\n        \"num_unique_values\": 15,\n        \"samples\": [\n          24,\n          22,\n          17\n        ],\n        \"semantic_type\": \"\",\n        \"description\": \"\"\n      }\n    },\n    {\n      \"column\": \"Car Manufacturing Year\",\n      \"properties\": {\n        \"dtype\": \"number\",\n        \"std\": 10,\n        \"min\": 1990,\n        \"max\": 2025,\n        \"num_unique_values\": 36,\n        \"samples\": [\n          2008,\n          1996,\n          2018\n        ],\n        \"semantic_type\": \"\",\n        \"description\": \"\"\n      }\n    },\n    {\n      \"column\": \"Car Age\",\n      \"properties\": {\n        \"dtype\": \"number\",\n        \"std\": 10,\n        \"min\": 0,\n        \"max\": 35,\n        \"num_unique_values\": 36,\n        \"samples\": [\n          17,\n          29,\n          7\n        ],\n        \"semantic_type\": \"\",\n        \"description\": \"\"\n      }\n    },\n    {\n      \"column\": \"Insurance Premium ($)\",\n      \"properties\": {\n        \"dtype\": \"number\",\n        \"std\": 5.909689235853654,\n        \"min\": 477.05,\n        \"max\": 508.15,\n        \"num_unique_values\": 414,\n        \"samples\": [\n          503.75,\n          492.95,\n          497.75\n        ],\n        \"semantic_type\": \"\",\n        \"description\": \"\"\n      }\n    }\n  ]\n}"
            }
          },
          "metadata": {},
          "execution_count": 18
        }
      ],
      "source": [
        "import pandas as pd\n",
        "import numpy as np\n",
        "import seaborn as sns\n",
        "import matplotlib.pyplot as plt\n",
        "import warnings\n",
        "warnings.filterwarnings('ignore')\n",
        "from sklearn.ensemble import RandomForestRegressor\n",
        "from sklearn.tree import DecisionTreeRegressor\n",
        "from sklearn.model_selection import train_test_split\n",
        "from sklearn.linear_model import LinearRegression\n",
        "from sklearn.metrics import mean_squared_error, r2_score\n",
        "\n",
        "%matplotlib inline\n",
        "\n",
        "# Load the dataset\n",
        "train_df = pd.read_csv('https://raw.githubusercontent.com/muajnstu/Car-Insurance-Premium-Prediction-using-Machine-Learning/refs/heads/main/car_insurance_premium_dataset.csv')\n",
        "test_df = pd.read_csv('https://raw.githubusercontent.com/muajnstu/Car-Insurance-Premium-Prediction-using-Machine-Learning/refs/heads/main/car_insurance_premium_dataset_TEST.csv')\n",
        "\n",
        "# Display the first few rows of the training dataset\n",
        "train_df.head()"
      ]
    },
    {
      "cell_type": "markdown",
      "id": "86b796ff",
      "metadata": {
        "papermill": {
          "duration": 0.003978,
          "end_time": "2025-01-09T15:26:18.081336",
          "exception": false,
          "start_time": "2025-01-09T15:26:18.077358",
          "status": "completed"
        },
        "tags": [],
        "id": "86b796ff"
      },
      "source": [
        "# Data Cleaning and Preprocessing\n",
        "Before diving into analysis, it's crucial to ensure our data is clean and well-prepared. Let's check for missing values, data types, and any anomalies."
      ]
    },
    {
      "cell_type": "code",
      "execution_count": 13,
      "id": "3143b4c2",
      "metadata": {
        "execution": {
          "iopub.execute_input": "2025-01-09T15:26:18.092964Z",
          "iopub.status.busy": "2025-01-09T15:26:18.092529Z",
          "iopub.status.idle": "2025-01-09T15:26:18.103653Z",
          "shell.execute_reply": "2025-01-09T15:26:18.102478Z"
        },
        "id": "3143b4c2",
        "papermill": {
          "duration": 0.018472,
          "end_time": "2025-01-09T15:26:18.105717",
          "exception": false,
          "start_time": "2025-01-09T15:26:18.087245",
          "status": "completed"
        },
        "tags": [],
        "colab": {
          "base_uri": "https://localhost:8080/",
          "height": 304
        },
        "outputId": "80f3cd51-4d42-4b91-f2cb-ccb72c75d586"
      },
      "outputs": [
        {
          "output_type": "execute_result",
          "data": {
            "text/plain": [
              "Driver Age                   0\n",
              "Driver Experience            0\n",
              "Previous Accidents           0\n",
              "Annual Mileage (x1000 km)    0\n",
              "Car Manufacturing Year       0\n",
              "Car Age                      0\n",
              "Insurance Premium ($)        0\n",
              "dtype: int64"
            ],
            "text/html": [
              "<div>\n",
              "<style scoped>\n",
              "    .dataframe tbody tr th:only-of-type {\n",
              "        vertical-align: middle;\n",
              "    }\n",
              "\n",
              "    .dataframe tbody tr th {\n",
              "        vertical-align: top;\n",
              "    }\n",
              "\n",
              "    .dataframe thead th {\n",
              "        text-align: right;\n",
              "    }\n",
              "</style>\n",
              "<table border=\"1\" class=\"dataframe\">\n",
              "  <thead>\n",
              "    <tr style=\"text-align: right;\">\n",
              "      <th></th>\n",
              "      <th>0</th>\n",
              "    </tr>\n",
              "  </thead>\n",
              "  <tbody>\n",
              "    <tr>\n",
              "      <th>Driver Age</th>\n",
              "      <td>0</td>\n",
              "    </tr>\n",
              "    <tr>\n",
              "      <th>Driver Experience</th>\n",
              "      <td>0</td>\n",
              "    </tr>\n",
              "    <tr>\n",
              "      <th>Previous Accidents</th>\n",
              "      <td>0</td>\n",
              "    </tr>\n",
              "    <tr>\n",
              "      <th>Annual Mileage (x1000 km)</th>\n",
              "      <td>0</td>\n",
              "    </tr>\n",
              "    <tr>\n",
              "      <th>Car Manufacturing Year</th>\n",
              "      <td>0</td>\n",
              "    </tr>\n",
              "    <tr>\n",
              "      <th>Car Age</th>\n",
              "      <td>0</td>\n",
              "    </tr>\n",
              "    <tr>\n",
              "      <th>Insurance Premium ($)</th>\n",
              "      <td>0</td>\n",
              "    </tr>\n",
              "  </tbody>\n",
              "</table>\n",
              "</div><br><label><b>dtype:</b> int64</label>"
            ]
          },
          "metadata": {},
          "execution_count": 13
        }
      ],
      "source": [
        "# Check for missing values\n",
        "train_df.isnull().sum()"
      ]
    },
    {
      "cell_type": "code",
      "execution_count": null,
      "id": "6d0ec363",
      "metadata": {
        "execution": {
          "iopub.execute_input": "2025-01-09T15:26:18.115747Z",
          "iopub.status.busy": "2025-01-09T15:26:18.115390Z",
          "iopub.status.idle": "2025-01-09T15:26:18.122054Z",
          "shell.execute_reply": "2025-01-09T15:26:18.121074Z"
        },
        "id": "6d0ec363",
        "papermill": {
          "duration": 0.013613,
          "end_time": "2025-01-09T15:26:18.123733",
          "exception": false,
          "start_time": "2025-01-09T15:26:18.110120",
          "status": "completed"
        },
        "tags": [],
        "colab": {
          "base_uri": "https://localhost:8080/",
          "height": 303
        },
        "outputId": "e49e4eee-c91f-4cdd-f668-5697ea96af96"
      },
      "outputs": [
        {
          "output_type": "execute_result",
          "data": {
            "text/plain": [
              "Driver Age                     int64\n",
              "Driver Experience              int64\n",
              "Previous Accidents             int64\n",
              "Annual Mileage (x1000 km)      int64\n",
              "Car Manufacturing Year         int64\n",
              "Car Age                        int64\n",
              "Insurance Premium ($)        float64\n",
              "dtype: object"
            ],
            "text/html": [
              "<div>\n",
              "<style scoped>\n",
              "    .dataframe tbody tr th:only-of-type {\n",
              "        vertical-align: middle;\n",
              "    }\n",
              "\n",
              "    .dataframe tbody tr th {\n",
              "        vertical-align: top;\n",
              "    }\n",
              "\n",
              "    .dataframe thead th {\n",
              "        text-align: right;\n",
              "    }\n",
              "</style>\n",
              "<table border=\"1\" class=\"dataframe\">\n",
              "  <thead>\n",
              "    <tr style=\"text-align: right;\">\n",
              "      <th></th>\n",
              "      <th>0</th>\n",
              "    </tr>\n",
              "  </thead>\n",
              "  <tbody>\n",
              "    <tr>\n",
              "      <th>Driver Age</th>\n",
              "      <td>int64</td>\n",
              "    </tr>\n",
              "    <tr>\n",
              "      <th>Driver Experience</th>\n",
              "      <td>int64</td>\n",
              "    </tr>\n",
              "    <tr>\n",
              "      <th>Previous Accidents</th>\n",
              "      <td>int64</td>\n",
              "    </tr>\n",
              "    <tr>\n",
              "      <th>Annual Mileage (x1000 km)</th>\n",
              "      <td>int64</td>\n",
              "    </tr>\n",
              "    <tr>\n",
              "      <th>Car Manufacturing Year</th>\n",
              "      <td>int64</td>\n",
              "    </tr>\n",
              "    <tr>\n",
              "      <th>Car Age</th>\n",
              "      <td>int64</td>\n",
              "    </tr>\n",
              "    <tr>\n",
              "      <th>Insurance Premium ($)</th>\n",
              "      <td>float64</td>\n",
              "    </tr>\n",
              "  </tbody>\n",
              "</table>\n",
              "</div><br><label><b>dtype:</b> object</label>"
            ]
          },
          "metadata": {},
          "execution_count": 3
        }
      ],
      "source": [
        "# Check data types\n",
        "train_df.dtypes"
      ]
    },
    {
      "cell_type": "markdown",
      "id": "3f3d708f",
      "metadata": {
        "papermill": {
          "duration": 0.004032,
          "end_time": "2025-01-09T15:26:18.132244",
          "exception": false,
          "start_time": "2025-01-09T15:26:18.128212",
          "status": "completed"
        },
        "tags": [],
        "id": "3f3d708f"
      },
      "source": [
        "The dataset appears to be clean with no missing values, and the data types are as expected. Let's proceed to exploratory data analysis."
      ]
    },
    {
      "cell_type": "markdown",
      "id": "ecaa17c3",
      "metadata": {
        "papermill": {
          "duration": 0.004049,
          "end_time": "2025-01-09T15:26:18.140513",
          "exception": false,
          "start_time": "2025-01-09T15:26:18.136464",
          "status": "completed"
        },
        "tags": [],
        "id": "ecaa17c3"
      },
      "source": [
        "# Exploratory Data Analysis\n",
        "In this section, we will visualize the data to understand the relationships between different variables and the insurance premium."
      ]
    },
    {
      "cell_type": "code",
      "execution_count": 4,
      "id": "461a0680",
      "metadata": {
        "execution": {
          "iopub.execute_input": "2025-01-09T15:26:30.593740Z",
          "iopub.status.busy": "2025-01-09T15:26:30.593391Z",
          "iopub.status.idle": "2025-01-09T15:26:30.989222Z",
          "shell.execute_reply": "2025-01-09T15:26:30.988081Z"
        },
        "id": "461a0680",
        "papermill": {
          "duration": 0.426045,
          "end_time": "2025-01-09T15:26:30.991582",
          "exception": false,
          "start_time": "2025-01-09T15:26:30.565537",
          "status": "completed"
        },
        "tags": [],
        "colab": {
          "base_uri": "https://localhost:8080/",
          "height": 630
        },
        "outputId": "21f07ba6-6814-4853-8384-acbc8331e03d"
      },
      "outputs": [
        {
          "output_type": "display_data",
          "data": {
            "text/plain": [
              "<Figure size 640x480 with 2 Axes>"
            ],
            "image/png": "[encoded data removed]"
          },
          "metadata": {}
        }
      ],
      "source": [
        "# Correlation heatmap\n",
        "numeric_df = train_df.select_dtypes(include=[np.number])\n",
        "corr = numeric_df.corr()\n",
        "sns.heatmap(corr, annot=True, cmap='coolwarm')\n",
        "plt.title('Correlation Heatmap')\n",
        "plt.show()"
      ]
    },
    {
      "cell_type": "markdown",
      "id": "98605df0",
      "metadata": {
        "papermill": {
          "duration": 0.027766,
          "end_time": "2025-01-09T15:26:31.047222",
          "exception": false,
          "start_time": "2025-01-09T15:26:31.019456",
          "status": "completed"
        },
        "tags": [],
        "id": "98605df0"
      },
      "source": [
        "The pair plot and correlation heatmap provide insights into the relationships between variables. Notably, the insurance premium seems to have a strong correlation with driver age and car age."
      ]
    },
    {
      "cell_type": "markdown",
      "id": "bd08a9d3",
      "metadata": {
        "papermill": {
          "duration": 0.02865,
          "end_time": "2025-01-09T15:26:31.104431",
          "exception": false,
          "start_time": "2025-01-09T15:26:31.075781",
          "status": "completed"
        },
        "tags": [],
        "id": "bd08a9d3"
      },
      "source": [
        "# Feature Engineering\n",
        "Based on our exploratory analysis, we might consider creating new features or transforming existing ones to improve our model's performance."
      ]
    },
    {
      "cell_type": "code",
      "execution_count": 19,
      "id": "82a9b419",
      "metadata": {
        "execution": {
          "iopub.execute_input": "2025-01-09T15:26:31.164604Z",
          "iopub.status.busy": "2025-01-09T15:26:31.164254Z",
          "iopub.status.idle": "2025-01-09T15:26:31.177658Z",
          "shell.execute_reply": "2025-01-09T15:26:31.176530Z"
        },
        "id": "82a9b419",
        "papermill": {
          "duration": 0.04555,
          "end_time": "2025-01-09T15:26:31.179401",
          "exception": false,
          "start_time": "2025-01-09T15:26:31.133851",
          "status": "completed"
        },
        "tags": [],
        "colab": {
          "base_uri": "https://localhost:8080/",
          "height": 206
        },
        "outputId": "81a283c7-22f8-4531-d884-ce19e5a8900d"
      },
      "outputs": [
        {
          "output_type": "execute_result",
          "data": {
            "text/plain": [
              "   Driver Age  Driver Experience  Previous Accidents  \\\n",
              "0          56                 32                   4   \n",
              "1          46                 19                   0   \n",
              "2          32                 11                   4   \n",
              "3          60                  0                   4   \n",
              "4          25                  7                   0   \n",
              "\n",
              "   Annual Mileage (x1000 km)  Car Manufacturing Year  Car Age  \\\n",
              "0                         17                    2002       23   \n",
              "1                         21                    2025        0   \n",
              "2                         15                    2020        5   \n",
              "3                         19                    1991       34   \n",
              "4                         13                    2005       20   \n",
              "\n",
              "   Insurance Premium ($)  Driver Risk  \n",
              "0                 488.35     0.121212  \n",
              "1                 486.15     0.000000  \n",
              "2                 497.55     0.333333  \n",
              "3                 498.35     4.000000  \n",
              "4                 495.55     0.000000  "
            ],
            "text/html": [
              "\n",
              "  <div id=\"df-b01598b7-ee22-48be-862f-0fcf712faed2\" class=\"colab-df-container\">\n",
              "    <div>\n",
              "<style scoped>\n",
              "    .dataframe tbody tr th:only-of-type {\n",
              "        vertical-align: middle;\n",
              "    }\n",
              "\n",
              "    .dataframe tbody tr th {\n",
              "        vertical-align: top;\n",
              "    }\n",
              "\n",
              "    .dataframe thead th {\n",
              "        text-align: right;\n",
              "    }\n",
              "</style>\n",
              "<table border=\"1\" class=\"dataframe\">\n",
              "  <thead>\n",
              "    <tr style=\"text-align: right;\">\n",
              "      <th></th>\n",
              "      <th>Driver Age</th>\n",
              "      <th>Driver Experience</th>\n",
              "      <th>Previous Accidents</th>\n",
              "      <th>Annual Mileage (x1000 km)</th>\n",
              "      <th>Car Manufacturing Year</th>\n",
              "      <th>Car Age</th>\n",
              "      <th>Insurance Premium ($)</th>\n",
              "      <th>Driver Risk</th>\n",
              "    </tr>\n",
              "  </thead>\n",
              "  <tbody>\n",
              "    <tr>\n",
              "      <th>0</th>\n",
              "      <td>56</td>\n",
              "      <td>32</td>\n",
              "      <td>4</td>\n",
              "      <td>17</td>\n",
              "      <td>2002</td>\n",
              "      <td>23</td>\n",
              "      <td>488.35</td>\n",
              "      <td>0.121212</td>\n",
              "    </tr>\n",
              "    <tr>\n",
              "      <th>1</th>\n",
              "      <td>46</td>\n",
              "      <td>19</td>\n",
              "      <td>0</td>\n",
              "      <td>21</td>\n",
              "      <td>2025</td>\n",
              "      <td>0</td>\n",
              "      <td>486.15</td>\n",
              "      <td>0.000000</td>\n",
              "    </tr>\n",
              "    <tr>\n",
              "      <th>2</th>\n",
              "      <td>32</td>\n",
              "      <td>11</td>\n",
              "      <td>4</td>\n",
              "      <td>15</td>\n",
              "      <td>2020</td>\n",
              "      <td>5</td>\n",
              "      <td>497.55</td>\n",
              "      <td>0.333333</td>\n",
              "    </tr>\n",
              "    <tr>\n",
              "      <th>3</th>\n",
              "      <td>60</td>\n",
              "      <td>0</td>\n",
              "      <td>4</td>\n",
              "      <td>19</td>\n",
              "      <td>1991</td>\n",
              "      <td>34</td>\n",
              "      <td>498.35</td>\n",
              "      <td>4.000000</td>\n",
              "    </tr>\n",
              "    <tr>\n",
              "      <th>4</th>\n",
              "      <td>25</td>\n",
              "      <td>7</td>\n",
              "      <td>0</td>\n",
              "      <td>13</td>\n",
              "      <td>2005</td>\n",
              "      <td>20</td>\n",
              "      <td>495.55</td>\n",
              "      <td>0.000000</td>\n",
              "    </tr>\n",
              "  </tbody>\n",
              "</table>\n",
              "</div>\n",
              "    <div class=\"colab-df-buttons\">\n",
              "\n",
              "  <div class=\"colab-df-container\">\n",
              "    <button class=\"colab-df-convert\" onclick=\"convertToInteractive('df-b01598b7-ee22-48be-862f-0fcf712faed2')\"\n",
              "            title=\"Convert this dataframe to an interactive table.\"\n",
              "            style=\"display:none;\">\n",
              "\n",
              "  <svg xmlns=\"http://www.w3.org/2000/svg\" height=\"24px\" viewBox=\"0 -960 960 960\">\n",
              "    <path d=\"M120-120v-720h720v720H120Zm60-500h600v-160H180v160Zm220 220h160v-160H400v160Zm0 220h160v-160H400v160ZM180-400h160v-160H180v160Zm440 0h160v-160H620v160ZM180-180h160v-160H180v160Zm440 0h160v-160H620v160Z\"/>\n",
              "  </svg>\n",
              "    </button>\n",
              "\n",
              "  <style>\n",
              "    .colab-df-container {\n",
              "      display:flex;\n",
              "      gap: 12px;\n",
              "    }\n",
              "\n",
              "    .colab-df-convert {\n",
              "      background-color: #E8F0FE;\n",
              "      border: none;\n",
              "      border-radius: 50%;\n",
              "      cursor: pointer;\n",
              "      display: none;\n",
              "      fill: #1967D2;\n",
              "      height: 32px;\n",
              "      padding: 0 0 0 0;\n",
              "      width: 32px;\n",
              "    }\n",
              "\n",
              "    .colab-df-convert:hover {\n",
              "      background-color: #E2EBFA;\n",
              "      box-shadow: 0px 1px 2px rgba(60, 64, 67, 0.3), 0px 1px 3px 1px rgba(60, 64, 67, 0.15);\n",
              "      fill: #174EA6;\n",
              "    }\n",
              "\n",
              "    .colab-df-buttons div {\n",
              "      margin-bottom: 4px;\n",
              "    }\n",
              "\n",
              "    [theme=dark] .colab-df-convert {\n",
              "      background-color: #3B4455;\n",
              "      fill: #D2E3FC;\n",
              "    }\n",
              "\n",
              "    [theme=dark] .colab-df-convert:hover {\n",
              "      background-color: #434B5C;\n",
              "      box-shadow: 0px 1px 3px 1px rgba(0, 0, 0, 0.15);\n",
              "      filter: drop-shadow(0px 1px 2px rgba(0, 0, 0, 0.3));\n",
              "      fill: #FFFFFF;\n",
              "    }\n",
              "  </style>\n",
              "\n",
              "    <script>\n",
              "      const buttonEl =\n",
              "        document.querySelector('#df-b01598b7-ee22-48be-862f-0fcf712faed2 button.colab-df-convert');\n",
              "      buttonEl.style.display =\n",
              "        google.colab.kernel.accessAllowed ? 'block' : 'none';\n",
              "\n",
              "      async function convertToInteractive(key) {\n",
              "        const element = document.querySelector('#df-b01598b7-ee22-48be-862f-0fcf712faed2');\n",
              "        const dataTable =\n",
              "          await google.colab.kernel.invokeFunction('convertToInteractive',\n",
              "                                                    [key], {});\n",
              "        if (!dataTable) return;\n",
              "\n",
              "        const docLinkHtml = 'Like what you see? Visit the ' +\n",
              "          '<a target=\"_blank\" href=https://colab.research.google.com/notebooks/data_table.ipynb>data table notebook</a>'\n",
              "          + ' to learn more about interactive tables.';\n",
              "        element.innerHTML = '';\n",
              "        dataTable['output_type'] = 'display_data';\n",
              "        await google.colab.output.renderOutput(dataTable, element);\n",
              "        const docLink = document.createElement('div');\n",
              "        docLink.innerHTML = docLinkHtml;\n",
              "        element.appendChild(docLink);\n",
              "      }\n",
              "    </script>\n",
              "  </div>\n",
              "\n",
              "\n",
              "    <div id=\"df-24694a42-0226-4b34-9142-3c7db5c2a6f4\">\n",
              "      <button class=\"colab-df-quickchart\" onclick=\"quickchart('df-24694a42-0226-4b34-9142-3c7db5c2a6f4')\"\n",
              "                title=\"Suggest charts\"\n",
              "                style=\"display:none;\">\n",
              "\n",
              "<svg xmlns=\"http://www.w3.org/2000/svg\" height=\"24px\"viewBox=\"0 0 24 24\"\n",
              "     width=\"24px\">\n",
              "    <g>\n",
              "        <path d=\"M19 3H5c-1.1 0-2 .9-2 2v14c0 1.1.9 2 2 2h14c1.1 0 2-.9 2-2V5c0-1.1-.9-2-2-2zM9 17H7v-7h2v7zm4 0h-2V7h2v10zm4 0h-2v-4h2v4z\"/>\n",
              "    </g>\n",
              "</svg>\n",
              "      </button>\n",
              "\n",
              "<style>\n",
              "  .colab-df-quickchart {\n",
              "      --bg-color: #E8F0FE;\n",
              "      --fill-color: #1967D2;\n",
              "      --hover-bg-color: #E2EBFA;\n",
              "      --hover-fill-color: #174EA6;\n",
              "      --disabled-fill-color: #AAA;\n",
              "      --disabled-bg-color: #DDD;\n",
              "  }\n",
              "\n",
              "  [theme=dark] .colab-df-quickchart {\n",
              "      --bg-color: #3B4455;\n",
              "      --fill-color: #D2E3FC;\n",
              "      --hover-bg-color: #434B5C;\n",
              "      --hover-fill-color: #FFFFFF;\n",
              "      --disabled-bg-color: #3B4455;\n",
              "      --disabled-fill-color: #666;\n",
              "  }\n",
              "\n",
              "  .colab-df-quickchart {\n",
              "    background-color: var(--bg-color);\n",
              "    border: none;\n",
              "    border-radius: 50%;\n",
              "    cursor: pointer;\n",
              "    display: none;\n",
              "    fill: var(--fill-color);\n",
              "    height: 32px;\n",
              "    padding: 0;\n",
              "    width: 32px;\n",
              "  }\n",
              "\n",
              "  .colab-df-quickchart:hover {\n",
              "    background-color: var(--hover-bg-color);\n",
              "    box-shadow: 0 1px 2px rgba(60, 64, 67, 0.3), 0 1px 3px 1px rgba(60, 64, 67, 0.15);\n",
              "    fill: var(--button-hover-fill-color);\n",
              "  }\n",
              "\n",
              "  .colab-df-quickchart-complete:disabled,\n",
              "  .colab-df-quickchart-complete:disabled:hover {\n",
              "    background-color: var(--disabled-bg-color);\n",
              "    fill: var(--disabled-fill-color);\n",
              "    box-shadow: none;\n",
              "  }\n",
              "\n",
              "  .colab-df-spinner {\n",
              "    border: 2px solid var(--fill-color);\n",
              "    border-color: transparent;\n",
              "    border-bottom-color: var(--fill-color);\n",
              "    animation:\n",
              "      spin 1s steps(1) infinite;\n",
              "  }\n",
              "\n",
              "  @keyframes spin {\n",
              "    0% {\n",
              "      border-color: transparent;\n",
              "      border-bottom-color: var(--fill-color);\n",
              "      border-left-color: var(--fill-color);\n",
              "    }\n",
              "    20% {\n",
              "      border-color: transparent;\n",
              "      border-left-color: var(--fill-color);\n",
              "      border-top-color: var(--fill-color);\n",
              "    }\n",
              "    30% {\n",
              "      border-color: transparent;\n",
              "      border-left-color: var(--fill-color);\n",
              "      border-top-color: var(--fill-color);\n",
              "      border-right-color: var(--fill-color);\n",
              "    }\n",
              "    40% {\n",
              "      border-color: transparent;\n",
              "      border-right-color: var(--fill-color);\n",
              "      border-top-color: var(--fill-color);\n",
              "    }\n",
              "    60% {\n",
              "      border-color: transparent;\n",
              "      border-right-color: var(--fill-color);\n",
              "    }\n",
              "    80% {\n",
              "      border-color: transparent;\n",
              "      border-right-color: var(--fill-color);\n",
              "      border-bottom-color: var(--fill-color);\n",
              "    }\n",
              "    90% {\n",
              "      border-color: transparent;\n",
              "      border-bottom-color: var(--fill-color);\n",
              "    }\n",
              "  }\n",
              "</style>\n",
              "\n",
              "      <script>\n",
              "        async function quickchart(key) {\n",
              "          const quickchartButtonEl =\n",
              "            document.querySelector('#' + key + ' button');\n",
              "          quickchartButtonEl.disabled = true;  // To prevent multiple clicks.\n",
              "          quickchartButtonEl.classList.add('colab-df-spinner');\n",
              "          try {\n",
              "            const charts = await google.colab.kernel.invokeFunction(\n",
              "                'suggestCharts', [key], {});\n",
              "          } catch (error) {\n",
              "            console.error('Error during call to suggestCharts:', error);\n",
              "          }\n",
              "          quickchartButtonEl.classList.remove('colab-df-spinner');\n",
              "          quickchartButtonEl.classList.add('colab-df-quickchart-complete');\n",
              "        }\n",
              "        (() => {\n",
              "          let quickchartButtonEl =\n",
              "            document.querySelector('#df-24694a42-0226-4b34-9142-3c7db5c2a6f4 button');\n",
              "          quickchartButtonEl.style.display =\n",
              "            google.colab.kernel.accessAllowed ? 'block' : 'none';\n",
              "        })();\n",
              "      </script>\n",
              "    </div>\n",
              "\n",
              "    </div>\n",
              "  </div>\n"
            ],
            "application/vnd.google.colaboratory.intrinsic+json": {
              "type": "dataframe",
              "variable_name": "train_df",
              "summary": "{\n  \"name\": \"train_df\",\n  \"rows\": 1000,\n  \"fields\": [\n    {\n      \"column\": \"Driver Age\",\n      \"properties\": {\n        \"dtype\": \"number\",\n        \"std\": 13,\n        \"min\": 18,\n        \"max\": 65,\n        \"num_unique_values\": 48,\n        \"samples\": [\n          24,\n          65,\n          54\n        ],\n        \"semantic_type\": \"\",\n        \"description\": \"\"\n      }\n    },\n    {\n      \"column\": \"Driver Experience\",\n      \"properties\": {\n        \"dtype\": \"number\",\n        \"std\": 10,\n        \"min\": 0,\n        \"max\": 40,\n        \"num_unique_values\": 41,\n        \"samples\": [\n          6,\n          1,\n          10\n        ],\n        \"semantic_type\": \"\",\n        \"description\": \"\"\n      }\n    },\n    {\n      \"column\": \"Previous Accidents\",\n      \"properties\": {\n        \"dtype\": \"number\",\n        \"std\": 1,\n        \"min\": 0,\n        \"max\": 5,\n        \"num_unique_values\": 6,\n        \"samples\": [\n          4,\n          0,\n          5\n        ],\n        \"semantic_type\": \"\",\n        \"description\": \"\"\n      }\n    },\n    {\n      \"column\": \"Annual Mileage (x1000 km)\",\n      \"properties\": {\n        \"dtype\": \"number\",\n        \"std\": 4,\n        \"min\": 11,\n        \"max\": 25,\n        \"num_unique_values\": 15,\n        \"samples\": [\n          24,\n          22,\n          17\n        ],\n        \"semantic_type\": \"\",\n        \"description\": \"\"\n      }\n    },\n    {\n      \"column\": \"Car Manufacturing Year\",\n      \"properties\": {\n        \"dtype\": \"number\",\n        \"std\": 10,\n        \"min\": 1990,\n        \"max\": 2025,\n        \"num_unique_values\": 36,\n        \"samples\": [\n          2008,\n          1996,\n          2018\n        ],\n        \"semantic_type\": \"\",\n        \"description\": \"\"\n      }\n    },\n    {\n      \"column\": \"Car Age\",\n      \"properties\": {\n        \"dtype\": \"number\",\n        \"std\": 10,\n        \"min\": 0,\n        \"max\": 35,\n        \"num_unique_values\": 36,\n        \"samples\": [\n          17,\n          29,\n          7\n        ],\n        \"semantic_type\": \"\",\n        \"description\": \"\"\n      }\n    },\n    {\n      \"column\": \"Insurance Premium ($)\",\n      \"properties\": {\n        \"dtype\": \"number\",\n        \"std\": 5.909689235853654,\n        \"min\": 477.05,\n        \"max\": 508.15,\n        \"num_unique_values\": 414,\n        \"samples\": [\n          503.75,\n          492.95,\n          497.75\n        ],\n        \"semantic_type\": \"\",\n        \"description\": \"\"\n      }\n    },\n    {\n      \"column\": \"Driver Risk\",\n      \"properties\": {\n        \"dtype\": \"number\",\n        \"std\": 0.7394582644795717,\n        \"min\": 0.0,\n        \"max\": 5.0,\n        \"num_unique_values\": 139,\n        \"samples\": [\n          0.12195121951219512,\n          0.11428571428571428,\n          2.5\n        ],\n        \"semantic_type\": \"\",\n        \"description\": \"\"\n      }\n    }\n  ]\n}"
            }
          },
          "metadata": {},
          "execution_count": 19
        }
      ],
      "source": [
        "# Example of feature engineering: creating a new feature for driver risk\n",
        "train_df['Driver Risk'] = train_df['Previous Accidents'] / (train_df['Driver Experience'] + 1)\n",
        "test_df['Driver Risk'] = test_df['Previous Accidents'] / (test_df['Driver Experience'] + 1)\n",
        "\n",
        "# Display the first few rows to verify the new feature\n",
        "train_df.head()"
      ]
    },
    {
      "cell_type": "markdown",
      "id": "5963acc8",
      "metadata": {
        "papermill": {
          "duration": 0.027648,
          "end_time": "2025-01-09T15:26:31.235139",
          "exception": false,
          "start_time": "2025-01-09T15:26:31.207491",
          "status": "completed"
        },
        "tags": [],
        "id": "5963acc8"
      },
      "source": [
        "# Model Building\n",
        "With our data prepared, we can now build a predictive model. We'll use a simple linear regression model to predict the insurance premium."
      ]
    },
    {
      "cell_type": "code",
      "source": [
        "# Define features and target variable\n",
        "X = train_df.drop('Insurance Premium ($)', axis=1)\n",
        "y = train_df['Insurance Premium ($)']\n",
        "\n",
        "# Split the data into training and validation sets\n",
        "X_train, X_val, y_train, y_val = train_test_split(X, y, test_size=0.2, random_state=42)"
      ],
      "metadata": {
        "id": "aukplt8ed1L1"
      },
      "id": "aukplt8ed1L1",
      "execution_count": 20,
      "outputs": []
    },
    {
      "cell_type": "markdown",
      "source": [
        "Now, let's try a Linear Regresson model."
      ],
      "metadata": {
        "id": "upCYJhP4d-Ko"
      },
      "id": "upCYJhP4d-Ko"
    },
    {
      "cell_type": "code",
      "source": [
        "# Initialize and train the model\n",
        "model = LinearRegression()\n",
        "model.fit(X_train, y_train)\n",
        "\n",
        "# Predict on the validation set\n",
        "y_pred = model.predict(X_val)\n",
        "\n",
        "# Calculate evaluation metrics\n",
        "mse = mean_squared_error(y_val, y_pred)\n",
        "r2 = r2_score(y_val, y_pred)\n",
        "\n",
        "mse, r2"
      ],
      "metadata": {
        "colab": {
          "base_uri": "https://localhost:8080/"
        },
        "id": "nDS2y_b9dpam",
        "outputId": "58b65e48-83ed-40f8-8fc9-531ff397ffa9"
      },
      "id": "nDS2y_b9dpam",
      "execution_count": 21,
      "outputs": [
        {
          "output_type": "execute_result",
          "data": {
            "text/plain": [
              "(4.685202688288633e-28, 1.0)"
            ]
          },
          "metadata": {},
          "execution_count": 21
        }
      ]
    },
    {
      "cell_type": "markdown",
      "metadata": {
        "id": "da13e4d9"
      },
      "source": [
        "Let's try a Decision Tree Regressor model."
      ],
      "id": "da13e4d9"
    },
    {
      "cell_type": "code",
      "source": [
        "# Initialize and train the Decision Tree model\n",
        "dt_model = DecisionTreeRegressor(random_state=42)\n",
        "dt_model.fit(X_train, y_train)\n",
        "\n",
        "# Predict on the validation set\n",
        "y_pred_dt = dt_model.predict(X_val)\n",
        "\n",
        "# Calculate evaluation metrics\n",
        "mse_dt = mean_squared_error(y_val, y_pred_dt)\n",
        "r2_dt = r2_score(y_val, y_pred_dt)\n",
        "\n",
        "print(f\"Decision Tree Regressor - MSE: {mse_dt}, R2: {r2_dt}\")"
      ],
      "metadata": {
        "colab": {
          "base_uri": "https://localhost:8080/"
        },
        "id": "OMuToCbpedcU",
        "outputId": "80c1f804-a557-438c-d778-968164e0136c"
      },
      "id": "OMuToCbpedcU",
      "execution_count": 22,
      "outputs": [
        {
          "output_type": "stream",
          "name": "stdout",
          "text": [
            "Decision Tree Regressor - MSE: 1.5483125000000075, R2: 0.9543626472233402\n"
          ]
        }
      ]
    },
    {
      "cell_type": "markdown",
      "metadata": {
        "id": "63524acc"
      },
      "source": [
        "Now, let's try a Random Forest Regressor model."
      ],
      "id": "63524acc"
    },
    {
      "cell_type": "code",
      "source": [
        "# Initialize and train the Random Forest model\n",
        "rf_model = RandomForestRegressor(random_state=42)\n",
        "rf_model.fit(X_train, y_train)\n",
        "\n",
        "# Predict on the validation set\n",
        "y_pred_rf = rf_model.predict(X_val)\n",
        "\n",
        "# Calculate evaluation metrics\n",
        "mse_rf = mean_squared_error(y_val, y_pred_rf)\n",
        "r2_rf = r2_score(y_val, y_pred_rf)\n",
        "\n",
        "print(f\"Random Forest Regressor - MSE: {mse_rf}, R2: {r2_rf}\")"
      ],
      "metadata": {
        "colab": {
          "base_uri": "https://localhost:8080/"
        },
        "id": "PlimFMIucqn0",
        "outputId": "ba4afb77-e534-439c-cbdd-35e4741b4394"
      },
      "id": "PlimFMIucqn0",
      "execution_count": 23,
      "outputs": [
        {
          "output_type": "stream",
          "name": "stdout",
          "text": [
            "Random Forest Regressor - MSE: 0.5351013925000278, R2: 0.9842275955139511\n"
          ]
        }
      ]
    },
    {
      "cell_type": "markdown",
      "metadata": {
        "papermill": {
          "duration": 0.028147,
          "end_time": "2025-01-09T15:26:31.967811",
          "exception": false,
          "start_time": "2025-01-09T15:26:31.939664",
          "status": "completed"
        },
        "tags": [],
        "id": "8b555b03"
      },
      "source": [
        "# Conclusion and Future Work\n",
        "In this notebook, we explored a dataset on car insurance premiums, performed data cleaning, conducted exploratory data analysis, engineered features, and built a predictive model. While our linear regression model provides a baseline, there is room for improvement. Future work could involve trying more complex models, such as decision trees or ensemble methods, and performing hyperparameter tuning to enhance prediction accuracy. Additionally, incorporating external data sources, such as geographical information or economic indicators, could further refine our predictions."
      ],
      "id": "8b555b03"
    }
  ],
  "metadata": {
    "kernelspec": {
      "display_name": "Python 3",
      "language": "python",
      "name": "python3"
    },
    "language_info": {
      "codemirror_mode": {
        "name": "ipython",
        "version": 3
      },
      "file_extension": ".py",
      "mimetype": "text/x-python",
      "name": "python",
      "nbconvert_exporter": "python",
      "pygments_lexer": "ipython3",
      "version": "3.10.12"
    },
    "papermill": {
      "default_parameters": {},
      "duration": 19.296213,
      "end_time": "2025-01-09T15:26:33.018780",
      "environment_variables": {},
      "exception": null,
      "input_path": "__notebook__.ipynb",
      "output_path": "__notebook__.ipynb",
      "parameters": {},
      "start_time": "2025-01-09T15:26:13.722567",
      "version": "2.6.0"
    },
    "colab": {
      "provenance": [],
      "include_colab_link": true
    }
  },
  "nbformat": 4,
  "nbformat_minor": 5
}